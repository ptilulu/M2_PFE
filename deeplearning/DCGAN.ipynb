{
 "cells": [
  {
   "cell_type": "markdown",
   "metadata": {},
   "source": [
    "# Génération d'images en Deep Learning\n",
    "\n",
    "### Generative Adversarial Networks\n",
    "\n",
    "#### Qu'est-ce qu'un GAN?\n",
    "\n",
    "Les GAN sont une technique d'apprentissage profond permettant de saisir la distribution des données de formation afin de pouvoir générer de nouvelles données à partir de ces mêmes données.\n",
    "\n",
    "Ils ont été inventés par **Ian Goodfellow** en 2014 et premièrement décrit dans l'article \"[Generative Adversarial\n",
    "Nets](https://papers.nips.cc/paper/5423-generative-adversarial-nets.pdf)\".\n",
    "\n",
    "Ils sont constitués de deux modèles distincts, un *générateur* et un *discriminateur*. \n",
    "Le rôle du générateur est de produire de \"fausses\" images qui ressemblent aux images d'entraînement. Le travail du discriminateur consiste à regarder une image et dire s'il s'agit ou non d'une véritable image d'entraînement ou d'une fausse image du générateur.\n",
    "\n",
    "Pendant l'entraînement, le générateur essaie constamment de déjouer le discriminateur en générant des images de plus en plus précises, tandis que le discriminateur s'efforce de devenir un meilleur détective et de classer correctement les images réelles et les images truquées. L'équilibre de ce jeu est atteint lorsque le générateur génère des contrefaçons parfaites qui semblent provenir directement des données d'entraînement, et que le discriminateur doit toujours deviner avec un niveau de confiance de 50 % que la sortie du générateur est réelle ou fausse.\n",
    "\n",
    "Maintenant, définissons quelques notations à utiliser en commençant avec le discriminateur. \n",
    "Soit $x$ les données représentant une image. $D(x)$ est le réseau du discriminateur qui produit la probabilité que $x$ proviennent des données d'entraînement plutôt que du générateur. \n",
    "Ici, puisqu'il s'agit d'images, l'entrée dans $D(x)$ est une image de CHW (Channel Height Width) de taille 3x64x64. Intuitivement, $D(x)$ devrait être HAUT lorsque $x$ provient des données d'entraînement et BAS lorsque $x$ provient du générateur. On peut aussi penser à $D(x)$ comme un classificateur binaire traditionnel.\n",
    "\n",
    "Pour la notation du générateur, soit $z$ un vecteur spatial latent échantillonné à partir d'une distribution normale standard. $G(z)$ représente la fonction génératrice qui met en correspondance le vecteur latent $z$ avec l'espace de données. \n",
    "Le but de $G$ est d'estimer la distribution d'où proviennent les données d'entraînement ($p_{data}$) afin de pouvoir générer de faux échantillons à partir de cette distribution estimée ($p_g$). \n",
    "\n",
    "Ainsi, $D(G(z))$ est la probabilité (scalaire) que la sortie du générateur $G$ soit une image réelle. Comme décrit dans l'article de [Goodfellow](https://papers.nips.cc/paper/5423-generative-adversarial-nets.pdf), $D$ et $G$ jouent un jeu minimax dans lequel $D$ essaie de maximiser la probabilité qu'il classe correctement les vrais et les faux ($logD(x)$), et $G$ essaie de minimiser la probabilité que $D$ prévoie que ses sorties sont fausses ($log(1-D(G(x)))$). \n",
    "D'après l'article, la fonction de perte du GAN est \n",
    "\n",
    "\\begin{align}\\underset{G}{\\text{min}} \\underset{D}{\\text{max}}V(D,G) = \\mathbb{E}_{x\\sim p_{data}(x)}\\big[logD(x)\\big] + \\mathbb{E}_{z\\sim p_{z}(z)}\\big[log(1-D(G(z)))\\big]\\end{align}\n",
    "\n",
    "En théorie, la solution à ce jeu de minimax est où $p_g = p_{data}$, et le discriminateur devine au hasard si les entrées sont réelles ou fausses. Cependant, la théorie de la convergence des GAN fait toujours l'objet de recherches actives et, en réalité, les modèles ne s'entraînent pas toujours jusqu'à ce point.\n",
    "\n",
    "#### Qu'est-ce qu'un DCGAN?\n",
    "\n",
    "Un *DCGAN* est une extension directe du GAN décrit ci-dessus, sauf qu'il utilise explicitement des couches convolutionnelles et convolutionnelles-transposées dans le discriminateur et le générateur, respectivement. Il a été décrit pour la première fois par **Radford et. al.** dans l'article \"[Unsupervised Representation Learning With Deep Convolutional Generative Adversarial Networks](https://arxiv.org/pdf/1511.06434.pdf)\".\n",
    "\n",
    "Le discriminateur est composé de couches de [convolution stridée](https://pytorch.org/docs/stable/nn.html#torch.nn.Conv2d), de couches de [batch norm](https://pytorch.org/docs/stable/nn.html#torch.nn.BatchNorm2d) et d'activations [LeakyReLU](https://pytorch.org/docs/stable/nn.html#torch.nn.LeakyReLU). \n",
    "L'entrée est une image de 3x64x64 et la sortie est une probabilité scalaire que l'entrée soit issue de la distribution réelle des données.\n",
    "\n",
    "Le générateur est composé de couches [convolutionnelles-transposées](https://pytorch.org/docs/stable/nn.html#torch.nn.ConvTranspose2d), de couches de [batch norm](https://pytorch.org/docs/stable/nn.html#torch.nn.BatchNorm2d) et d'activations [ReLU](https://pytorch.org/docs/stable/nn.html#relu). \n",
    "L'entrée est un vecteur latent, $z$, qui est tiré d'une distribution normale standard et la sortie est une image RGB 3x64x64. Les couches conv-transposées permettent de transformer le vecteur latent en un volume ayant la même forme qu'une image. Dans l'article, les auteurs donnent également quelques conseils sur la façon de configurer les optimiseurs, de calculer les fonctions de perte et d'initialiser les poids du modèle, qui seront tous expliqués dans les sections suivantes.\n",
    "\n",
    "\n"
   ]
  },
  {
   "cell_type": "code",
   "execution_count": null,
   "metadata": {},
   "outputs": [],
   "source": [
    "from __future__ import print_function\n",
    "%matplotlib inline\n",
    "\n",
    "import os\n",
    "import random\n",
    "import torch\n",
    "import torch.nn as nn\n",
    "import torch.nn.parallel\n",
    "import torch.backends.cudnn as cudnn\n",
    "import torch.optim as optim\n",
    "import torch.utils.data\n",
    "import torchvision.datasets as dset\n",
    "import torchvision.transforms as transforms\n",
    "import torchvision.utils as vutils\n",
    "import numpy as np\n",
    "import matplotlib.pyplot as plt\n",
    "import matplotlib.animation as animation\n",
    "from IPython.display import HTML\n",
    "\n",
    "# Set random seed for reproducibility\n",
    "#manualSeed = 999\n",
    "manualSeed = random.randint(1, 10000) # use if you want new results\n",
    "print(\"Random Seed: \", manualSeed)\n",
    "random.seed(manualSeed)\n",
    "torch.manual_seed(manualSeed)"
   ]
  },
  {
   "cell_type": "markdown",
   "metadata": {},
   "source": [
    "### Entrées\n",
    "\n",
    "-  **dataroot** - le chemin d'accès à la racine du dossier de l'ensemble de données.\n",
    "-  **workers** - le nombre de threads pour le chargement des données avec le DataLoader\n",
    "-  **batch_size** - le batch size utilisé pour l'entraînement. Le papier DCGAN utilise une taille de lot de 128\n",
    "-  **image_size** - la taille des images utilisées pour l'entraînement. Cette implémentation est par défaut en 64x64. Si une autre taille est souhaitée, les structures de D et G doivent être modifiées\n",
    "-  **nc** - nombre de canaux de couleur des images d'entrée. Pour les images en couleur, ce nombre est de 3\n",
    "-  **nz** - longueur du vecteur latent\n",
    "-  **ngf** - se rapporte à la profondeur des feature maps propagées par le générateur\n",
    "-  **ndf** - se rapporte à la profondeur des feature maps propagées par le discriminateur\n",
    "-  **num_epochs** - nombre d'époques d'entraînement.\n",
    "-  **lr** - taux d'apprentissage pour l'entraînement. Comme décrit dans l'article du DCGAN, ce nombre devrait être de 0,0002\n",
    "-  **beta1** - hyperparamètre bêta1 pour les optimiseurs d'Adam. Comme décrit dans l'article, ce nombre devrait être de 0,5\n",
    "-  **ngpu** - nombre de GPU disponibles. Si ce nombre est égal à 0, le code fonctionnera en mode CPU. Si ce nombre est supérieur à 0, il fonctionnera sur ce nombre de GPU\n",
    "\n",
    "\n"
   ]
  },
  {
   "cell_type": "code",
   "execution_count": null,
   "metadata": {},
   "outputs": [],
   "source": [
    "# Root directory for dataset\n",
    "dataroot = \"data/dcgan/training/\"\n",
    "\n",
    "# Number of workers for dataloader\n",
    "workers = 2\n",
    "\n",
    "# Batch size during training\n",
    "batch_size = 128\n",
    "\n",
    "# Spatial size of training images. All images will be resized to this\n",
    "#   size using a transformer.\n",
    "image_size = 64\n",
    "\n",
    "# Number of channels in the training images. For color images this is 3\n",
    "nc = 3\n",
    "\n",
    "# Size of z latent vector (i.e. size of generator input)\n",
    "nz = 100\n",
    "\n",
    "# Size of feature maps in generator\n",
    "ngf = 64\n",
    "\n",
    "# Size of feature maps in discriminator\n",
    "ndf = 64\n",
    "\n",
    "# Number of training epochs\n",
    "num_epochs = 100\n",
    "\n",
    "# Learning rate for optimizers\n",
    "lr = 0.0002\n",
    "\n",
    "# Beta1 hyperparam for Adam optimizers\n",
    "beta1 = 0.5\n",
    "\n",
    "# Number of GPUs available. Use 0 for CPU mode.\n",
    "ngpu = 1"
   ]
  },
  {
   "cell_type": "markdown",
   "metadata": {},
   "source": [
    "### Données\n",
    "\n",
    "Les données de terrains utilisées ont été traîtées. Chacune de ces images fait une taille de base de 600x600 pixels. Les images inutiles tels que les océans ont été supprimés afin d'obtenir de meilleurs résultats.\n",
    "\n",
    "\n"
   ]
  },
  {
   "cell_type": "code",
   "execution_count": null,
   "metadata": {},
   "outputs": [],
   "source": [
    "# We can use an image folder dataset the way we have it setup.\n",
    "# Create the dataset\n",
    "dataset = dset.ImageFolder(root=dataroot,\n",
    "                           transform=transforms.Compose([\n",
    "                               transforms.Resize(image_size),\n",
    "                               transforms.CenterCrop(image_size),\n",
    "                               transforms.ToTensor(),\n",
    "                               transforms.Normalize((0.5, 0.5, 0.5), (0.5, 0.5, 0.5)),\n",
    "                           ]))\n",
    "# Create the dataloader\n",
    "dataloader = torch.utils.data.DataLoader(dataset, batch_size=batch_size, shuffle=True, num_workers=workers)\n",
    "\n",
    "# Decide which device we want to run on\n",
    "device = torch.device(\"cuda:0\" if (torch.cuda.is_available() and ngpu > 0) else \"cpu\")\n",
    "\n",
    "# Plot some training images\n",
    "real_batch = next(iter(dataloader))\n",
    "plt.figure(figsize=(8,8))\n",
    "plt.axis(\"off\")\n",
    "plt.title(\"Training Images\")\n",
    "plt.imshow(np.transpose(vutils.make_grid(real_batch[0].to(device)[:64], padding=2, normalize=True).cpu(),(1,2,0)))"
   ]
  },
  {
   "cell_type": "markdown",
   "metadata": {},
   "source": [
    "### Implémentation\n",
    "\n",
    "Une fois les paramètres d'entrée définis et l'ensemble de données préparé, nous pouvons maintenant passer à la mise en œuvre. Nous commencerons par la stratégie d'initialisation du poids, puis nous parlerons en détail du générateur, du discriminateur, des fonctions de perte et de la boucle d'entraînement.\n",
    "\n",
    "#### Initialisation du poids\n",
    "\n",
    "Dans l'article de DCGAN, les auteurs précisent que tous les poids des modèles doivent être initialisés de manière aléatoire à partir d'une distribution normale avec *mean = 0*, *stdev = 0,02*. La fonction *weights_init* prend un modèle initialisé comme entrée et réinitialise toutes les couches de normalisation convolutives, convolutives-transposées et par lots pour répondre à ce critère. Cette fonction est appliquée aux modèles immédiatement après l'initialisation."
   ]
  },
  {
   "cell_type": "code",
   "execution_count": null,
   "metadata": {},
   "outputs": [],
   "source": [
    "def weights_init(m):\n",
    "    classname = m.__class__.__name__\n",
    "    if classname.find('Conv') != -1:\n",
    "        nn.init.normal_(m.weight.data, 0.0, 0.02)\n",
    "    elif classname.find('BatchNorm') != -1:\n",
    "        nn.init.normal_(m.weight.data, 1.0, 0.02)\n",
    "        nn.init.constant_(m.bias.data, 0)"
   ]
  },
  {
   "cell_type": "markdown",
   "metadata": {},
   "source": [
    "#### Générateur\n",
    "\n",
    "Le générateur, $G$, est conçu pour reproduire le vecteur spatial latent ($z$) à l'espace de données. Comme nos données sont des images, la conversion $z$ à l'espace de données signifie en fin de compte la création d'une image RGB avec le même taille que les images d'entraînement (c'est-à-dire 3x64x64). En pratique, cela se fait par une série de couches de transposition convolutionnelle bidimensionnelle, chacune étant associée à une couche 2d batch norm et à une activation ReLu.\n",
    "La sortie du générateur est alimentée par une fonction *tanh* pour la ramener dans la plage de données d'entrée de $[-1,1]$.\n",
    "\n"
   ]
  },
  {
   "cell_type": "code",
   "execution_count": null,
   "metadata": {},
   "outputs": [],
   "source": [
    "class Generator(nn.Module):\n",
    "    def __init__(self, ngpu):\n",
    "        super(Generator, self).__init__()\n",
    "        self.ngpu = ngpu\n",
    "        self.main = nn.Sequential(\n",
    "            # input is Z, going into a convolution\n",
    "            nn.ConvTranspose2d( nz, ngf * 8, 4, 1, 0, bias=False),\n",
    "            nn.BatchNorm2d(ngf * 8),\n",
    "            nn.ReLU(True),\n",
    "            # state size. (ngf*8) x 4 x 4\n",
    "            nn.ConvTranspose2d(ngf * 8, ngf * 4, 4, 2, 1, bias=False),\n",
    "            nn.BatchNorm2d(ngf * 4),\n",
    "            nn.ReLU(True),\n",
    "            # state size. (ngf*4) x 8 x 8\n",
    "            nn.ConvTranspose2d( ngf * 4, ngf * 2, 4, 2, 1, bias=False),\n",
    "            nn.BatchNorm2d(ngf * 2),\n",
    "            nn.ReLU(True),\n",
    "            # state size. (ngf*2) x 16 x 16\n",
    "            nn.ConvTranspose2d( ngf * 2, ngf, 4, 2, 1, bias=False),\n",
    "            nn.BatchNorm2d(ngf),\n",
    "            nn.ReLU(True),\n",
    "            # state size. (ngf) x 32 x 32\n",
    "            nn.ConvTranspose2d( ngf, nc, 4, 2, 1, bias=False),\n",
    "            nn.Tanh()\n",
    "            # state size. (nc) x 64 x 64\n",
    "        )\n",
    "\n",
    "    def forward(self, input):\n",
    "        return self.main(input)"
   ]
  },
  {
   "cell_type": "markdown",
   "metadata": {},
   "source": [
    "Maintenant, nous pouvons instancier le générateur et appliquer la fonction *weights_init*.\n",
    "\n"
   ]
  },
  {
   "cell_type": "code",
   "execution_count": null,
   "metadata": {},
   "outputs": [],
   "source": [
    "# Create the generator\n",
    "netG = Generator(ngpu).to(device)\n",
    "\n",
    "# Handle multi-gpu if desired\n",
    "if (device.type == 'cuda') and (ngpu > 1):\n",
    "    netG = nn.DataParallel(netG, list(range(ngpu)))\n",
    "\n",
    "# Apply the weights_init function to randomly initialize all weights\n",
    "#  to mean=0, stdev=0.2.\n",
    "netG.apply(weights_init)\n",
    "\n",
    "# Print the model\n",
    "print(netG)"
   ]
  },
  {
   "cell_type": "markdown",
   "metadata": {},
   "source": [
    "#### Discriminateur\n",
    "\n",
    "Comme mentionné, le discriminateur, $D$, est une classification binaire qui prend une image comme entrée et produit une probabilité scalaire que l'image d'entrée est réelle (par opposition à une fausse). Ici, $D$ prend une image d'entrée de *3x64x64*, la traite par une série de Conv2d, BatchNorm2d, et les couches LeakyReLU, et produit la probabilité finale grâce à une fonction d'activation Sigmoïd. Cette architecture peut être étendue avec plus de couches si nécessaire pour le problème, mais il y a une signification à l'utilisation des Conv2D, des BatchNorm et des LeakyReLUs comme mentionné dans l'article du DCGAN."
   ]
  },
  {
   "cell_type": "code",
   "execution_count": null,
   "metadata": {},
   "outputs": [],
   "source": [
    "class Discriminator(nn.Module):\n",
    "    def __init__(self, ngpu):\n",
    "        super(Discriminator, self).__init__()\n",
    "        self.ngpu = ngpu\n",
    "        self.main = nn.Sequential(\n",
    "            # input is (nc) x 64 x 64\n",
    "            nn.Conv2d(nc, ndf, 4, 2, 1, bias=False),\n",
    "            nn.LeakyReLU(0.2, inplace=True),\n",
    "            # state size. (ndf) x 32 x 32\n",
    "            nn.Conv2d(ndf, ndf * 2, 4, 2, 1, bias=False),\n",
    "            nn.BatchNorm2d(ndf * 2),\n",
    "            nn.LeakyReLU(0.2, inplace=True),\n",
    "            # state size. (ndf*2) x 16 x 16\n",
    "            nn.Conv2d(ndf * 2, ndf * 4, 4, 2, 1, bias=False),\n",
    "            nn.BatchNorm2d(ndf * 4),\n",
    "            nn.LeakyReLU(0.2, inplace=True),\n",
    "            # state size. (ndf*4) x 8 x 8\n",
    "            nn.Conv2d(ndf * 4, ndf * 8, 4, 2, 1, bias=False),\n",
    "            nn.BatchNorm2d(ndf * 8),\n",
    "            nn.LeakyReLU(0.2, inplace=True),\n",
    "            # state size. (ndf*8) x 4 x 4\n",
    "            nn.Conv2d(ndf * 8, 1, 4, 1, 0, bias=False),\n",
    "            nn.Sigmoid()\n",
    "        )\n",
    "\n",
    "    def forward(self, input):\n",
    "        return self.main(input)"
   ]
  },
  {
   "cell_type": "markdown",
   "metadata": {},
   "source": [
    "Maintenant, comme pour le générateur, nous pouvons créer le discriminateur, appliquer la fonction *weights_init* et imprimer la structure du modèle."
   ]
  },
  {
   "cell_type": "code",
   "execution_count": null,
   "metadata": {},
   "outputs": [],
   "source": [
    "# Create the Discriminator\n",
    "netD = Discriminator(ngpu).to(device)\n",
    "\n",
    "# Handle multi-gpu if desired\n",
    "if (device.type == 'cuda') and (ngpu > 1):\n",
    "    netD = nn.DataParallel(netD, list(range(ngpu)))\n",
    "    \n",
    "# Apply the weights_init function to randomly initialize all weights\n",
    "#  to mean=0, stdev=0.2.\n",
    "netD.apply(weights_init)\n",
    "\n",
    "# Print the model\n",
    "print(netD)"
   ]
  },
  {
   "cell_type": "markdown",
   "metadata": {},
   "source": [
    "#### Fonctions de perte et optimiseurs\n",
    "\n",
    "Avec la configuration $D$ et $G$, nous pouvons spécifier comment ils apprennent grâce aux fonctions de perte et aux optimiseurs. Nous utiliserons la fonction de perte \"Binary Cross Entropy\" ([BCELoss](https://pytorch.org/docs/stable/nn.html#torch.nn.BCELoss)).\n",
    "\n",
    "Ensuite, nous définissons notre vrai label comme 1 et le faux label comme 0. Ces labels seront utilisées pour calculer les pertes de $D$ et $G$, et c'est également la convention utilisée dans le document original du GAN. Enfin, nous avons mis en place deux optimiseurs distincts, l'un pour $D$ et l'autre pour $G$. \n",
    "Comme indiqué dans le document DCGAN, les deux sont des optimiseurs *Adam* avec un taux d'apprentissage de *0,0002* et *Beta1 = 0,5*. Pour suivre la progression de l'apprentissage du générateur, nous allons générer un lot fixe de vecteurs latents qui sont tirés d'une distribution gaussienne (i.e. fixed_noise). Dans la boucle de formation, nous introduirons périodiquement ce bruit_fixe en $G$, et au fil des itérations nous verrons les images se former à partir du bruit.\n",
    "\n"
   ]
  },
  {
   "cell_type": "code",
   "execution_count": null,
   "metadata": {},
   "outputs": [],
   "source": [
    "# Initialize BCELoss function\n",
    "criterion = nn.BCELoss()\n",
    "\n",
    "# Create batch of latent vectors that we will use to visualize\n",
    "#  the progression of the generator\n",
    "fixed_noise = torch.randn(64, nz, 1, 1, device=device)\n",
    "\n",
    "# Establish convention for real and fake labels during training\n",
    "real_label = 1\n",
    "fake_label = 0\n",
    "\n",
    "# Setup Adam optimizers for both G and D\n",
    "optimizerD = optim.Adam(netD.parameters(), lr=lr, betas=(beta1, 0.999))\n",
    "optimizerG = optim.Adam(netG.parameters(), lr=lr, betas=(beta1, 0.999))"
   ]
  },
  {
   "cell_type": "markdown",
   "metadata": {},
   "source": [
    "#### Entraînement\n",
    "\n",
    "Enfin, maintenant que nous avons défini toutes les parties du GAN, nous pouvons l'entraîner. Il ne faut pas oublier que l'entraînement des GAN est très sensible car un mauvais réglage des hyperparamètres entraîne l'effondrement du mode avec peu d'explications sur ce qui a mal tourné.\n",
    "Ici, nous allons suivre de près l'algorithme 1 de l'article de Goodfellow, tout en respectant certaines des meilleures pratiques présentées dans [ganhacks](https://github.com/soumith/ganhacks).\n",
    "\n",
    "**Part 1 - Entraîner le Discriminateur**\n",
    "\n",
    "Rappelons que l'objectif de la formation du discriminateur est de maximiser la probabilité de classer correctement une entrée donnée comme réelle ou fausse. Selon les termes de Goodfellow, nous souhaitons \"mettre à jour le discriminateur en faisant monter son gradient stochastique\". Concrètement, nous voulons maximiser $log(D(x)) + log(1-D(G(z)))$.\n",
    "\n",
    "**Part 2 - Entraîner le Générateur**\n",
    "\n",
    "Comme indiqué dans le document original, nous voulons former le Générateur en minimisant $log(1-D(G(z)))$ dans un effort pour générer de meilleurs faux. Comme mentionné, Goodfellow a montré que cela ne permettait pas d'obtenir des gradients suffisants, en particulier au début du processus d'apprentissage. Comme solution, nous souhaitons plutôt maximiser $log(D(G(z)))$.\n",
    "\n",
    "Enfin, nous ferons des rapports statistiques et à la fin de chaque époque, nous ferons passer notre lot de fixed_noise dans le générateur pour suivre visuellement la progression de l'entraînement de G. Les statistiques d'entraînement rapportées sont:\n",
    "\n",
    "-  **Loss_D** - perte du discriminateur calculée avec la somme des pertes pour tous les batch réels et tous les batch factices ($log(D(x)) + log(D(G(z)))$).\n",
    "-  **Loss_G** - perte du générateur calculée par $log(D(G(z)))$\n",
    "-  **D(x)** - la production moyenne (sur l'ensemble du batch) du discriminateur pour le batch réel. Elle devrait commencer près de 1 puis théoriquement converger vers 0,5 lorsque G s'améliore.\n",
    "-  **D(G(z))** - les sorties moyennes du discriminateur pour les batch de faux. Le premier numéro est avant la mise à jour de D et le second est après. Ces nombres devraient commencer près de 0 et converger vers 0,5 à mesure que G s'améliore.\n",
    "\n",
    "Il est aussi possible de charger des modèles existants déjà entraînés:"
   ]
  },
  {
   "cell_type": "code",
   "execution_count": null,
   "metadata": {},
   "outputs": [],
   "source": [
    "netG.load_state_dict(torch.load('models/generator.pt'))\n",
    "netD.load_state_dict(torch.load('models/discriminator.pt'))"
   ]
  },
  {
   "cell_type": "code",
   "execution_count": null,
   "metadata": {},
   "outputs": [],
   "source": [
    "# Training Loop\n",
    "\n",
    "# Lists to keep track of progress\n",
    "img_list = []\n",
    "imgs_generated = []\n",
    "G_losses = []\n",
    "D_losses = []\n",
    "iters = 0\n",
    "\n",
    "print(\"Starting Training Loop...\")\n",
    "# For each epoch\n",
    "for epoch in range(num_epochs):\n",
    "    # For each batch in the dataloader\n",
    "    for i, data in enumerate(dataloader, 0):\n",
    "        \n",
    "        ############################\n",
    "        # (1) Update D network: maximize log(D(x)) + log(1 - D(G(z)))\n",
    "        ###########################\n",
    "        ## Train with all-real batch\n",
    "        netD.zero_grad()\n",
    "        # Format batch\n",
    "        real_cpu = data[0].to(device)\n",
    "        b_size = real_cpu.size(0)\n",
    "        label = torch.full((b_size,), real_label, device=device)\n",
    "        # Forward pass real batch through D\n",
    "        output = netD(real_cpu).view(-1)\n",
    "        # Calculate loss on all-real batch\n",
    "        errD_real = criterion(output, label)\n",
    "        # Calculate gradients for D in backward pass\n",
    "        errD_real.backward()\n",
    "        D_x = output.mean().item()\n",
    "\n",
    "        ## Train with all-fake batch\n",
    "        # Generate batch of latent vectors\n",
    "        noise = torch.randn(b_size, nz, 1, 1, device=device)\n",
    "        # Generate fake image batch with G\n",
    "        fake = netG(noise)\n",
    "        label.fill_(fake_label)\n",
    "        # Classify all fake batch with D\n",
    "        output = netD(fake.detach()).view(-1)\n",
    "        # Calculate D's loss on the all-fake batch\n",
    "        errD_fake = criterion(output, label)\n",
    "        # Calculate the gradients for this batch\n",
    "        errD_fake.backward()\n",
    "        D_G_z1 = output.mean().item()\n",
    "        # Add the gradients from the all-real and all-fake batches\n",
    "        errD = errD_real + errD_fake\n",
    "        # Update D\n",
    "        optimizerD.step()\n",
    "\n",
    "        ############################\n",
    "        # (2) Update G network: maximize log(D(G(z)))\n",
    "        ###########################\n",
    "        netG.zero_grad()\n",
    "        label.fill_(real_label)  # fake labels are real for generator cost\n",
    "        # Since we just updated D, perform another forward pass of all-fake batch through D\n",
    "        output = netD(fake).view(-1)\n",
    "        # Calculate G's loss based on this output\n",
    "        errG = criterion(output, label)\n",
    "        # Calculate gradients for G\n",
    "        errG.backward()\n",
    "        D_G_z2 = output.mean().item()\n",
    "        # Update G\n",
    "        optimizerG.step()\n",
    "        \n",
    "        # Output training stats\n",
    "        if i % 50 == 0:\n",
    "            print('[%d/%d][%d/%d]\\tLoss_D: %.4f\\tLoss_G: %.4f\\tD(x): %.4f\\tD(G(z)): %.4f / %.4f'\n",
    "                  % (epoch+1, num_epochs, i, len(dataloader),\n",
    "                     errD.item(), errG.item(), D_x, D_G_z1, D_G_z2))\n",
    "        \n",
    "        # Save Losses for plotting later\n",
    "        G_losses.append(errG.item())\n",
    "        D_losses.append(errD.item())\n",
    "        \n",
    "        # Check how the generator is doing by saving G's output on fixed_noise\n",
    "        if (iters % 500 == 0) or ((epoch == num_epochs-1) and (i == len(dataloader)-1)):\n",
    "            with torch.no_grad():\n",
    "                fake = netG(fixed_noise).detach().cpu()\n",
    "            img_list.append(vutils.make_grid(fake, padding=2, normalize=True))\n",
    "            if ((epoch == num_epochs-1) and (i == len(dataloader)-1)):\n",
    "                for i in fake:\n",
    "                    imgs_generated.append(i)\n",
    "        iters += 1"
   ]
  },
  {
   "cell_type": "markdown",
   "metadata": {},
   "source": [
    "#### Sauvegarde de l'état du générateur et du discriminateur"
   ]
  },
  {
   "cell_type": "code",
   "execution_count": null,
   "metadata": {},
   "outputs": [],
   "source": [
    "torch.save(netG.state_dict(), \"models/generator.pt\")\n",
    "torch.save(netD.state_dict(), \"models/discriminator.pt\")"
   ]
  },
  {
   "cell_type": "markdown",
   "metadata": {},
   "source": [
    "### Résultats\n",
    "\n",
    "Ici, nous allons examiner trois résultats différents. Tout d'abord, nous verrons comment les pertes de $D$ et $G$ ont changé pendant la formation. Ensuite, nous visualiserons la sortie de G sur le lot fixed_noise pour chaque époque. Et troisièmement, nous examinerons un lot de données réelles à côté d'un lot de données fictives de G.\n",
    "\n",
    "**Graphique des pertes de D & G par rapport aux itérations de formation.**"
   ]
  },
  {
   "cell_type": "code",
   "execution_count": null,
   "metadata": {},
   "outputs": [],
   "source": [
    "plt.figure(figsize=(10,5))\n",
    "plt.title(\"Pertes du générateur et du discriminateur pendant l'entraînement\")\n",
    "plt.plot(G_losses,label=\"Générateur\")\n",
    "plt.plot(D_losses,label=\"Discriminateur\")\n",
    "plt.xlabel(\"Itérations\")\n",
    "plt.ylabel(\"Perte\")\n",
    "plt.legend()\n",
    "plt.savefig('data/dcgan/latest.png')\n",
    "plt.show()"
   ]
  },
  {
   "cell_type": "markdown",
   "metadata": {},
   "source": [
    "**Visualisation de la progression du Générateur**"
   ]
  },
  {
   "cell_type": "code",
   "execution_count": null,
   "metadata": {
    "scrolled": true
   },
   "outputs": [],
   "source": [
    "Writer = animation.writers['ffmpeg']\n",
    "writer = Writer(fps=1, metadata=dict(artist='Kr4unos'), bitrate=1800)\n",
    "\n",
    "fig = plt.figure(figsize=(8,8))\n",
    "plt.axis(\"off\")\n",
    "ims = [[plt.imshow(np.transpose(i,(1,2,0)), animated=True)] for i in img_list]\n",
    "ani = animation.ArtistAnimation(fig, ims, interval=1000, repeat_delay=1000, blit=True)\n",
    "ani.save('data/dcgan/latest.mp4', writer=writer)\n",
    "\n",
    "HTML(ani.to_jshtml())"
   ]
  },
  {
   "cell_type": "markdown",
   "metadata": {},
   "source": [
    "**Vraies images vs images générées**"
   ]
  },
  {
   "cell_type": "code",
   "execution_count": null,
   "metadata": {},
   "outputs": [],
   "source": [
    "# Grab a batch of real images from the dataloader\n",
    "real_batch = next(iter(dataloader))\n",
    "\n",
    "# Plot the real images\n",
    "plt.figure(figsize=(15,15))\n",
    "plt.subplot(1,2,1)\n",
    "plt.axis(\"off\")\n",
    "plt.title(\"Real Images\")\n",
    "plt.imshow(np.transpose(vutils.make_grid(real_batch[0].to(device)[:64], padding=5, normalize=True).cpu(),(1,2,0)))\n",
    "\n",
    "# Plot the fake images from the last epoch\n",
    "plt.subplot(1,2,2)\n",
    "plt.axis(\"off\")\n",
    "plt.title(\"Fake Images\")\n",
    "plt.imshow(np.transpose(img_list[-1],(1,2,0)))\n",
    "plt.show()"
   ]
  },
  {
   "cell_type": "markdown",
   "metadata": {},
   "source": [
    "#### Enregistrement des images générées"
   ]
  },
  {
   "cell_type": "code",
   "execution_count": null,
   "metadata": {},
   "outputs": [],
   "source": [
    "i = 0\n",
    "for img in imgs_generated:\n",
    "    vutils.save_image(img, 'data/dcgan/generated/output_' + str(i) + '.tif')\n",
    "    i += 1"
   ]
  }
 ],
 "metadata": {
  "kernelspec": {
   "display_name": "Python 3",
   "language": "python",
   "name": "python3"
  },
  "language_info": {
   "codemirror_mode": {
    "name": "ipython",
    "version": 3
   },
   "file_extension": ".py",
   "mimetype": "text/x-python",
   "name": "python",
   "nbconvert_exporter": "python",
   "pygments_lexer": "ipython3",
   "version": "3.7.6"
  }
 },
 "nbformat": 4,
 "nbformat_minor": 1
}
