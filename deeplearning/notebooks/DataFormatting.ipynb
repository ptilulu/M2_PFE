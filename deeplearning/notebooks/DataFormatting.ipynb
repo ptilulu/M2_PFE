{
 "cells": [
  {
   "cell_type": "markdown",
   "metadata": {
    "collapsed": true
   },
   "source": [
    "# Data Formatting\n",
    "\n",
    "## Téléchargement des données de la SRTM"
   ]
  },
  {
   "cell_type": "markdown",
   "metadata": {},
   "source": [
    "Il nous a fallu dans un premier temps télécharger les données cartographiques de la SRTM, l'interface de leur site n'étant pas adapté à un téléchargement massif de données, nous avons développé un script permettant d'automatiser les téléchargements. "
   ]
  },
  {
   "cell_type": "code",
   "execution_count": null,
   "metadata": {},
   "outputs": [],
   "source": [
    "import requests\n",
    "import os\n",
    "\n",
    "for i in range(1, 72):\n",
    "    for j in range(1, 24):\n",
    "        if os.path.isfile(\"../downloaded/srtm_{}_{}.zip\".format(str(i).zfill(2), str(j).zfill(2))):\n",
    "            print(\"[Found] srtm_{}_{}.zip\".format(str(i).zfill(2), str(j).zfill(2)))\n",
    "        else:\n",
    "            response = requests.get(\"http://srtm.csi.cgiar.org/wp-content/uploads/files/srtm_5x5/TIFF/srtm_{}_{}.zip\".format(str(i).zfill(2), str(j).zfill(2)))\n",
    "            if response.status_code == 200:\n",
    "                file_name = \"srtm_{}_{}.zip\".format(str(i).zfill(2), str(j).zfill(2))\n",
    "                file_path = \"../downloaded/\" + file_name\n",
    "                with open(file_path, 'wb') as f:\n",
    "                    print(\"[Downloaded]: \" + file_name)\n",
    "                    f.write(response.content)\n",
    "            else:\n",
    "                print(\"[Not Found] srtm_{}_{}.zip\".format(str(i).zfill(2), str(j).zfill(2)))"
   ]
  },
  {
   "cell_type": "markdown",
   "metadata": {
    "pycharm": {
     "name": "#%% md\n"
    }
   },
   "source": [
    "Une fois ces données en notre possession, il a fallu créer un extracteur pour récupérer uniquement nos fichiers .tif des archives téléchargées"
   ]
  },
  {
   "cell_type": "code",
   "execution_count": null,
   "metadata": {
    "pycharm": {
     "name": "#%%\n"
    }
   },
   "outputs": [],
   "source": [
    "import os\n",
    "import fnmatch\n",
    "import zipfile\n",
    "\n",
    "\n",
    "def extractor(zip_file):\n",
    "    extensions = '.tif'\n",
    "    [zip_file.extract(file, r\"../downloaded/tif\") for file in zip_file.namelist() if file.endswith(extensions)]\n",
    "\n",
    "\n",
    "def extractTifFiles():\n",
    "    if not os.path.exists(\"../downloaded/tif\"):\n",
    "        os.makedirs(\"../downloaded/tif\")\n",
    "    pattern = '*.zip'\n",
    "    for root, dirs, files in os.walk('../downloaded'):\n",
    "        for filename in fnmatch.filter(files, pattern):\n",
    "            if os.path.isfile(os.path.join('../downloaded/tif/', os.path.splitext(filename)[0] + '.tif')):\n",
    "                print(os.path.splitext(filename)[0] + '.tif trouvé')\n",
    "                continue\n",
    "            with zipfile.ZipFile(os.path.join(root, filename)) as zf:\n",
    "                extractor(zf)\n",
    "                print(filename, \"extrait!\")\n",
    "\n",
    "\n",
    "if __name__ == \"__main__\":\n",
    "    extractTifFiles()"
   ]
  },
  {
   "cell_type": "markdown",
   "metadata": {},
   "source": [
    "Enfin, après avoir extrait nos images, il convenait de les réduire de manière à pouvoir les utiliser dans notre classificateur, nous avons donc subdivisé nos images d'une taille de 6000x6000px en 100 images plus petites d'une taille de 600x600px à l'aide de la librairie GDAL permettant de faire des opérations sur des GeoTIFF."
   ]
  },
  {
   "cell_type": "code",
   "execution_count": null,
   "metadata": {
    "pycharm": {
     "name": "#%%\n"
    }
   },
   "outputs": [],
   "source": [
    "import os\n",
    "from osgeo import gdal\n",
    "\n",
    "\n",
    "def split(path):\n",
    "    raw_file_name = os.path.splitext(os.path.basename(path))[0].replace(\"_downsample\", \"\")\n",
    "\n",
    "    tile_size_x = 600\n",
    "    tile_size_y = 600\n",
    "\n",
    "    ds = gdal.Open(path)\n",
    "    band = ds.GetRasterBand(1)\n",
    "    xsize = band.XSize\n",
    "    ysize = band.YSize\n",
    "\n",
    "    for i in range(0, xsize, tile_size_x):\n",
    "        for j in range(0, ysize, tile_size_y):\n",
    "            com_string = \"gdal_translate -of GTIFF -srcwin \" + str(i) + \", \" + str(j) + \", \" \\\n",
    "                         + str(tile_size_x) + \", \" + str(tile_size_y) + \" \" + str(path) \\\n",
    "                         + \" \" + str(\"../downloaded/subdivided/\") + str(raw_file_name) + \"_\" \\\n",
    "                         + str(i) + \"_\" + str(j) + \".tif\"\n",
    "            os.system(com_string)\n",
    "\n",
    "\n",
    "if __name__ == \"__main__\":\n",
    "    for file in os.listdir('../downloaded/tif'):\n",
    "        if file.endswith(\".tif\"):\n",
    "            split(os.path.join('../downloaded/tif', file))"
   ]
  },
  {
   "cell_type": "markdown",
   "metadata": {},
   "source": [
    "Nous avons aussi développé une version permettant de les convertir directement en JPEG, les données GeoTiff n'étant pas nécessaire pour notre utilisation."
   ]
  },
  {
   "cell_type": "code",
   "execution_count": null,
   "metadata": {},
   "outputs": [],
   "source": [
    "from PIL import Image\n",
    "import os\n",
    "\n",
    "\n",
    "def split(file, chopsize, basename):\n",
    "    img = Image.open(file)\n",
    "    width, height = img.size\n",
    "    for x0 in range(0, width, chopsize):\n",
    "        for y0 in range(0, height, chopsize):\n",
    "            box = (x0, y0,\n",
    "                   x0 + chopsize if x0 + chopsize < width else width - 1,\n",
    "                   y0 + chopsize if y0 + chopsize < height else height - 1)\n",
    "            print('%s %s' % (file, box))\n",
    "            img.crop(box).convert('RGB').save('../downloaded/subdivided/%s_x%03d_y%03d.jpg' % (basename, x0, y0))\n",
    "\n",
    "\n",
    "if __name__ == \"__main__\":\n",
    "    for file in os.listdir('../downloaded/tif'):\n",
    "        basename = os.path.basename(file).replace('.tif', '')\n",
    "        if file.endswith(\".tif\"):\n",
    "            split(os.path.join('../downloaded/tif/', file), 600, basename)\n"
   ]
  },
  {
   "cell_type": "markdown",
   "metadata": {},
   "source": [
    "## Téléchargement d'images de \"non terrains\"\n",
    "\n",
    "Afin de pouvoir réaliser notre classificateur, nous avions besoin de données n'étant pas des terrains. C'est ainsi que le développement d'un script de téléchargement d'images aléatoires nous est apparu nécessaire.\n",
    "\n",
    "Notre script est relié à une API nous fournissant une image aléatoire de la même taille que nos images de la SRTM utilisées dans notre classificateur (600x600px). Il l'utilise afin de télécharger des images pour l'entraînement, la validation ainsi que pour les tests."
   ]
  },
  {
   "cell_type": "code",
   "execution_count": null,
   "metadata": {
    "pycharm": {
     "name": "#%%\n"
    }
   },
   "outputs": [],
   "source": [
    "import requests\n",
    "\n",
    "# Training\n",
    "for i in range(200):\n",
    "    url = \"https://picsum.photos/600/600/?random\"\n",
    "    response = requests.get(url)\n",
    "    if response.status_code == 200:\n",
    "        file_name = 'not_terrain_{}.jpg'.format(i)\n",
    "        file_path = \"../data/training/not_terrains/\" + file_name\n",
    "        with open(file_path, 'wb') as f:\n",
    "            print(\"saving: \" + file_name)\n",
    "            f.write(response.content)\n",
    "\n",
    "# Validation\n",
    "for i in range(100):\n",
    "    url = \"https://picsum.photos/600/600/?random\"\n",
    "    response = requests.get(url)\n",
    "    if response.status_code == 200:\n",
    "        file_name = 'not_terrain_{}.jpg'.format(i)\n",
    "        file_path = \"../data/validation/not_terrains/\" + file_name\n",
    "        with open(file_path, 'wb') as f:\n",
    "            print(\"saving: \" + file_name)\n",
    "            f.write(response.content)\n",
    "\n",
    "# Test\n",
    "for i in range(100):\n",
    "    url = \"https://picsum.photos/600/600/?random\"\n",
    "    response = requests.get(url)\n",
    "    if response.status_code == 200:\n",
    "        file_name = 'not_terrain_{}.jpg'.format(i)\n",
    "        file_path = \"../data/test/not_terrains/\" + file_name\n",
    "        with open(file_path, 'wb') as f:\n",
    "            print(\"saving: \" + file_name)\n",
    "            f.write(response.content)"
   ]
  }
 ],
 "metadata": {
  "kernelspec": {
   "display_name": "Python 3",
   "language": "python",
   "name": "python3"
  },
  "language_info": {
   "codemirror_mode": {
    "name": "ipython",
    "version": 3
   },
   "file_extension": ".py",
   "mimetype": "text/x-python",
   "name": "python",
   "nbconvert_exporter": "python",
   "pygments_lexer": "ipython3",
   "version": "3.7.6"
  },
  "pycharm": {
   "stem_cell": {
    "cell_type": "raw",
    "metadata": {
     "collapsed": false
    },
    "source": []
   }
  }
 },
 "nbformat": 4,
 "nbformat_minor": 1
}
