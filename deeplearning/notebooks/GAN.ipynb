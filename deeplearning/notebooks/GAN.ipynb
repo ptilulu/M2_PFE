{
 "cells": [
  {
   "cell_type": "markdown",
   "metadata": {
    "collapsed": true
   },
   "source": [
    "# Generative Adversarial Network (GAN)\n",
    "\n",
    "## Qu'est-ce qu'un GAN?"
   ]
  },
  {
   "cell_type": "markdown",
   "metadata": {},
   "source": [
    "Un GAN est un modèle génératif où deux réseaux sont placés en compétition dans un scénario de théorie des jeux. Le premier réseau est le générateur, il génère un échantillon (ex. une image), tandis que son adversaire, le discriminateur essaie de détecter si un échantillon est réel ou bien s'il est le résultat du générateur.\n",
    "\n",
    "Cette technique apprend à générer de nouvelles données avec les mêmes statistiques que l'ensemble d'échantillon donné en paramètre. Par exemple, un GAN formé sur les photographies peut générer de nouvelles photographies qui paraissent au moins superficiellement authentiques aux observateurs humains, ayant de nombreuses caractéristiques réalistes.\n",
    "\n",
    "![title](img/gan1.png)"
   ]
  },
  {
   "cell_type": "markdown",
   "metadata": {},
   "source": [
    "Au cours de la formation, le générateur devient progressivement meilleur pour créer des images qui semblent réelles, tandis que le discriminateur devient meilleur pour les distinguer. Le processus atteint l'équilibre lorsque le discriminateur ne peut plus distinguer les images réelles des fausses.\n",
    "![title](img/gan2.png)"
   ]
  },
  {
   "cell_type": "markdown",
   "metadata": {},
   "source": [
    "## Choix de GAN"
   ]
  },
  {
   "cell_type": "markdown",
   "metadata": {},
   "source": [
    "Il existe de [nombreuses implémentations](https://github.com/eriklindernoren/Keras-GAN) de GAN, nous avons choisi une des plus populaires et des plus utilisées: le [Deep Convolutional Generative Adversarial Network](https://arxiv.org/pdf/1511.06434.pdf) (DCGAN)."
   ]
  },
  {
   "cell_type": "code",
   "execution_count": null,
   "metadata": {},
   "outputs": [],
   "source": []
  }
 ],
 "metadata": {
  "kernelspec": {
   "display_name": "Python 3",
   "language": "python",
   "name": "python3"
  },
  "language_info": {
   "codemirror_mode": {
    "name": "ipython",
    "version": 3
   },
   "file_extension": ".py",
   "mimetype": "text/x-python",
   "name": "python",
   "nbconvert_exporter": "python",
   "pygments_lexer": "ipython3",
   "version": "3.7.6"
  },
  "pycharm": {
   "stem_cell": {
    "cell_type": "raw",
    "source": [],
    "metadata": {
     "collapsed": false
    }
   }
  }
 },
 "nbformat": 4,
 "nbformat_minor": 1
}